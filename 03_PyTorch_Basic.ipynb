{
  "nbformat": 4,
  "nbformat_minor": 0,
  "metadata": {
    "colab": {
      "name": "03_PyTorch_Basic.ipynb",
      "provenance": [],
      "authorship_tag": "ABX9TyMcQ9S2Eqkp9tqI2G11Ddnx"
    },
    "kernelspec": {
      "name": "python3",
      "display_name": "Python 3"
    },
    "accelerator": "GPU"
  },
  "cells": [
    {
      "cell_type": "markdown",
      "metadata": {
        "id": "TE_Dj_6tr3e0",
        "colab_type": "text"
      },
      "source": [
        "# [3] PyTorch Basic"
      ]
    },
    {
      "cell_type": "code",
      "metadata": {
        "id": "2f7OAjUFrEXC",
        "colab_type": "code",
        "colab": {
          "base_uri": "https://localhost:8080/",
          "height": 35
        },
        "outputId": "9fda3a1a-4a27-4bf7-97ec-9939ad5cf643"
      },
      "source": [
        "import torch\n",
        "\n",
        "torch.__version__"
      ],
      "execution_count": null,
      "outputs": [
        {
          "output_type": "execute_result",
          "data": {
            "application/vnd.google.colaboratory.intrinsic+json": {
              "type": "string"
            },
            "text/plain": [
              "'1.6.0+cu101'"
            ]
          },
          "metadata": {
            "tags": []
          },
          "execution_count": 1
        }
      ]
    },
    {
      "cell_type": "code",
      "metadata": {
        "id": "i9Lwy1bAr5Vc",
        "colab_type": "code",
        "colab": {
          "base_uri": "https://localhost:8080/",
          "height": 35
        },
        "outputId": "d1cbf179-1bd5-49c1-efdc-2acc7016454e"
      },
      "source": [
        "dtype = torch.float\n",
        "device = torch.device(\"cuda\" if torch.cuda.is_available() else \"cpu\")\n",
        "\n",
        "device"
      ],
      "execution_count": null,
      "outputs": [
        {
          "output_type": "execute_result",
          "data": {
            "text/plain": [
              "device(type='cuda', index=0)"
            ]
          },
          "metadata": {
            "tags": []
          },
          "execution_count": 2
        }
      ]
    },
    {
      "cell_type": "markdown",
      "metadata": {
        "id": "4nqYWd8ps3SN",
        "colab_type": "text"
      },
      "source": [
        "### (1) Parameter 설정\n",
        "* N : Batch size\n",
        "* D_in : Input dimention / H : Hidden dimention / D_out : Output dimention\n"
      ]
    },
    {
      "cell_type": "code",
      "metadata": {
        "id": "ftJd3Bi1r5M1",
        "colab_type": "code",
        "colab": {}
      },
      "source": [
        "N = 64\n",
        "D_in, H, D_out = 1000, 100, 10"
      ],
      "execution_count": null,
      "outputs": []
    },
    {
      "cell_type": "markdown",
      "metadata": {
        "id": "QiRkq2ijtpfU",
        "colab_type": "text"
      },
      "source": [
        "### (2) input (x) / target (y) 설정"
      ]
    },
    {
      "cell_type": "code",
      "metadata": {
        "id": "A46ODWzqr6Im",
        "colab_type": "code",
        "colab": {
          "base_uri": "https://localhost:8080/",
          "height": 35
        },
        "outputId": "1be86149-22b6-4c9f-e7da-5babbce176d3"
      },
      "source": [
        "x  = torch.randn(N, D_in, device=device, dtype=dtype)\n",
        "y = torch.randn(N, D_out, device=device, dtype=dtype)\n",
        "\n",
        "x.size(), y.size()"
      ],
      "execution_count": null,
      "outputs": [
        {
          "output_type": "execute_result",
          "data": {
            "text/plain": [
              "(torch.Size([64, 1000]), torch.Size([64, 10]))"
            ]
          },
          "metadata": {
            "tags": []
          },
          "execution_count": 4
        }
      ]
    },
    {
      "cell_type": "code",
      "metadata": {
        "id": "19CWw-QNtktp",
        "colab_type": "code",
        "colab": {
          "base_uri": "https://localhost:8080/",
          "height": 69
        },
        "outputId": "19d2b102-a173-4ae7-ff51-4356b8cdbb2e"
      },
      "source": [
        "x[0, :20]"
      ],
      "execution_count": null,
      "outputs": [
        {
          "output_type": "execute_result",
          "data": {
            "text/plain": [
              "tensor([ 0.9284,  1.6228,  1.7541, -2.7384, -0.2308, -1.0436,  0.1682, -0.0155,\n",
              "         2.3583,  1.2076,  0.1973, -0.6411,  0.2044,  1.1255, -0.1575, -0.5051,\n",
              "         1.5404, -0.1795, -1.3157, -0.8399], device='cuda:0')"
            ]
          },
          "metadata": {
            "tags": []
          },
          "execution_count": 5
        }
      ]
    },
    {
      "cell_type": "markdown",
      "metadata": {
        "id": "Beed5A1zuqbO",
        "colab_type": "text"
      },
      "source": [
        "### (3) Model / Loss function / Optimizer 정의"
      ]
    },
    {
      "cell_type": "code",
      "metadata": {
        "id": "jWn9tCGYuhOh",
        "colab_type": "code",
        "colab": {
          "base_uri": "https://localhost:8080/",
          "height": 104
        },
        "outputId": "e3d14ebb-01fe-4115-9b5c-cf6d3a8d0daf"
      },
      "source": [
        "simple_model = torch.nn.Sequential(\n",
        "    torch.nn.Linear(D_in, H),\n",
        "    torch.nn.ReLU(),\n",
        "    torch.nn.Linear(H, D_out),\n",
        ")\n",
        "\n",
        "simple_model.to(device)"
      ],
      "execution_count": null,
      "outputs": [
        {
          "output_type": "execute_result",
          "data": {
            "text/plain": [
              "Sequential(\n",
              "  (0): Linear(in_features=1000, out_features=100, bias=True)\n",
              "  (1): ReLU()\n",
              "  (2): Linear(in_features=100, out_features=10, bias=True)\n",
              ")"
            ]
          },
          "metadata": {
            "tags": []
          },
          "execution_count": 6
        }
      ]
    },
    {
      "cell_type": "code",
      "metadata": {
        "id": "ICVNTSPLzlNJ",
        "colab_type": "code",
        "colab": {}
      },
      "source": [
        "class TwoLayerNet(torch.nn.Module):\n",
        "  def __init__(self, D_in, H, D_out):\n",
        "    super(TwoLayerNet, self).__init__()\n",
        "\n",
        "    self.linear1 = torch.nn.Linear(D_in, H)\n",
        "    self.linear2 = torch.nn.Linear(H, D_out)\n",
        "\n",
        "  def forward(self, x):\n",
        "    h_relu = self.linear1(x).clamp(min=0)\n",
        "    y_pred = self.linear2(h_relu)\n",
        "\n",
        "    return y_pred"
      ],
      "execution_count": null,
      "outputs": []
    },
    {
      "cell_type": "code",
      "metadata": {
        "id": "eiyexkY70wej",
        "colab_type": "code",
        "colab": {
          "base_uri": "https://localhost:8080/",
          "height": 87
        },
        "outputId": "b7672990-45fa-4e32-ce65-039a7c9fda1d"
      },
      "source": [
        "model = TwoLayerNet(D_in, H, D_out)\n",
        "model.to(device)"
      ],
      "execution_count": null,
      "outputs": [
        {
          "output_type": "execute_result",
          "data": {
            "text/plain": [
              "TwoLayerNet(\n",
              "  (linear1): Linear(in_features=1000, out_features=100, bias=True)\n",
              "  (linear2): Linear(in_features=100, out_features=10, bias=True)\n",
              ")"
            ]
          },
          "metadata": {
            "tags": []
          },
          "execution_count": 8
        }
      ]
    },
    {
      "cell_type": "code",
      "metadata": {
        "id": "8hqw_qX5r6F3",
        "colab_type": "code",
        "colab": {}
      },
      "source": [
        "loss_fn = torch.nn.MSELoss(reduction='sum')"
      ],
      "execution_count": null,
      "outputs": []
    },
    {
      "cell_type": "code",
      "metadata": {
        "id": "SqjzqAx6vkcV",
        "colab_type": "code",
        "colab": {}
      },
      "source": [
        "learning_rate = 1e-4\n",
        "optimizer = torch.optim.Adam(model.parameters(), lr=learning_rate)"
      ],
      "execution_count": null,
      "outputs": []
    },
    {
      "cell_type": "markdown",
      "metadata": {
        "id": "2SH4JFe4veHt",
        "colab_type": "text"
      },
      "source": [
        "### (4) Training"
      ]
    },
    {
      "cell_type": "code",
      "metadata": {
        "id": "M7Z4Tt56r6Cd",
        "colab_type": "code",
        "colab": {
          "base_uri": "https://localhost:8080/",
          "height": 191
        },
        "outputId": "693adb52-cdb0-4ae0-d02c-ff85beddaf1a"
      },
      "source": [
        "model.train()\n",
        "\n",
        "for epoch in range(10):\n",
        "  y_pred = model(x)\n",
        "\n",
        "  loss = loss_fn(y_pred, y)\n",
        "  print(f'[Epoch {epoch}] loss: {loss.item()}')\n",
        "\n",
        "  #gradient 초기화\n",
        "  optimizer.zero_grad()\n",
        "\n",
        "  #각 weight에 대한 gradient 계산\n",
        "  loss.backward()\n",
        "\n",
        "  # weight 업데이트\n",
        "  optimizer.step()"
      ],
      "execution_count": null,
      "outputs": [
        {
          "output_type": "stream",
          "text": [
            "[Epoch 0] loss: 710.5137939453125\n",
            "[Epoch 1] loss: 692.9041748046875\n",
            "[Epoch 2] loss: 675.7921142578125\n",
            "[Epoch 3] loss: 659.0867919921875\n",
            "[Epoch 4] loss: 642.8419189453125\n",
            "[Epoch 5] loss: 627.0905151367188\n",
            "[Epoch 6] loss: 611.8078002929688\n",
            "[Epoch 7] loss: 597.099365234375\n",
            "[Epoch 8] loss: 582.84228515625\n",
            "[Epoch 9] loss: 569.018798828125\n"
          ],
          "name": "stdout"
        }
      ]
    },
    {
      "cell_type": "markdown",
      "metadata": {
        "id": "KrvfsEW_xpqf",
        "colab_type": "text"
      },
      "source": [
        "### (5) Infer"
      ]
    },
    {
      "cell_type": "code",
      "metadata": {
        "id": "8WB7_865r592",
        "colab_type": "code",
        "colab": {
          "base_uri": "https://localhost:8080/",
          "height": 35
        },
        "outputId": "30819b57-81ac-429f-8b9f-904eb449c64d"
      },
      "source": [
        "x_i  = torch.randn(N, D_in, device=device, dtype=dtype)\n",
        "\n",
        "x_i.size()"
      ],
      "execution_count": null,
      "outputs": [
        {
          "output_type": "execute_result",
          "data": {
            "text/plain": [
              "torch.Size([64, 1000])"
            ]
          },
          "metadata": {
            "tags": []
          },
          "execution_count": 12
        }
      ]
    },
    {
      "cell_type": "code",
      "metadata": {
        "id": "G-hMZxOcsmwa",
        "colab_type": "code",
        "colab": {}
      },
      "source": [
        "# eval() : Dropout 비활성화 / Batch Normalization : 학습 시 저장된 파라미터 사용\n",
        "model.eval()\n",
        "\n",
        "y_i = model(x_i)"
      ],
      "execution_count": null,
      "outputs": []
    },
    {
      "cell_type": "code",
      "metadata": {
        "id": "ZbekTVIBsmqc",
        "colab_type": "code",
        "colab": {
          "base_uri": "https://localhost:8080/",
          "height": 35
        },
        "outputId": "543252c7-374b-4509-9bc4-d376feb88f79"
      },
      "source": [
        "y_i.size()"
      ],
      "execution_count": null,
      "outputs": [
        {
          "output_type": "execute_result",
          "data": {
            "text/plain": [
              "torch.Size([64, 10])"
            ]
          },
          "metadata": {
            "tags": []
          },
          "execution_count": 14
        }
      ]
    }
  ]
}